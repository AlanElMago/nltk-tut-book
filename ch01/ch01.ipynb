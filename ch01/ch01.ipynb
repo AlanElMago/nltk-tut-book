{
 "cells": [
  {
   "cell_type": "markdown",
   "metadata": {},
   "source": [
    "# 1 Computing with Language: Text and Words"
   ]
  },
  {
   "cell_type": "markdown",
   "metadata": {},
   "source": [
    "## 1.2 Getting Started with NLTK"
   ]
  },
  {
   "cell_type": "markdown",
   "metadata": {},
   "source": [
    "\n",
    "The library that we will be working with NLTK. Download it using pip.\n",
    "\n",
    "The `nltk.download(\"`*`package_name`*`\")` function downloads an NLTK package."
   ]
  },
  {
   "cell_type": "code",
   "execution_count": 2,
   "metadata": {},
   "outputs": [
    {
     "name": "stderr",
     "output_type": "stream",
     "text": [
      "[nltk_data] Downloading collection 'book'\n",
      "[nltk_data]    | \n",
      "[nltk_data]    | Downloading package abc to /home/donjon/nltk_data...\n",
      "[nltk_data]    |   Package abc is already up-to-date!\n",
      "[nltk_data]    | Downloading package brown to\n",
      "[nltk_data]    |     /home/donjon/nltk_data...\n",
      "[nltk_data]    |   Package brown is already up-to-date!\n",
      "[nltk_data]    | Downloading package chat80 to\n",
      "[nltk_data]    |     /home/donjon/nltk_data...\n",
      "[nltk_data]    |   Package chat80 is already up-to-date!\n",
      "[nltk_data]    | Downloading package cmudict to\n",
      "[nltk_data]    |     /home/donjon/nltk_data...\n",
      "[nltk_data]    |   Package cmudict is already up-to-date!\n",
      "[nltk_data]    | Downloading package conll2000 to\n",
      "[nltk_data]    |     /home/donjon/nltk_data...\n",
      "[nltk_data]    |   Package conll2000 is already up-to-date!\n",
      "[nltk_data]    | Downloading package conll2002 to\n",
      "[nltk_data]    |     /home/donjon/nltk_data...\n",
      "[nltk_data]    |   Package conll2002 is already up-to-date!\n",
      "[nltk_data]    | Downloading package dependency_treebank to\n",
      "[nltk_data]    |     /home/donjon/nltk_data...\n",
      "[nltk_data]    |   Package dependency_treebank is already up-to-date!\n",
      "[nltk_data]    | Downloading package genesis to\n",
      "[nltk_data]    |     /home/donjon/nltk_data...\n",
      "[nltk_data]    |   Package genesis is already up-to-date!\n",
      "[nltk_data]    | Downloading package gutenberg to\n",
      "[nltk_data]    |     /home/donjon/nltk_data...\n",
      "[nltk_data]    |   Package gutenberg is already up-to-date!\n",
      "[nltk_data]    | Downloading package ieer to /home/donjon/nltk_data...\n",
      "[nltk_data]    |   Package ieer is already up-to-date!\n",
      "[nltk_data]    | Downloading package inaugural to\n",
      "[nltk_data]    |     /home/donjon/nltk_data...\n",
      "[nltk_data]    |   Package inaugural is already up-to-date!\n",
      "[nltk_data]    | Downloading package movie_reviews to\n",
      "[nltk_data]    |     /home/donjon/nltk_data...\n",
      "[nltk_data]    |   Package movie_reviews is already up-to-date!\n",
      "[nltk_data]    | Downloading package nps_chat to\n",
      "[nltk_data]    |     /home/donjon/nltk_data...\n",
      "[nltk_data]    |   Package nps_chat is already up-to-date!\n",
      "[nltk_data]    | Downloading package names to\n",
      "[nltk_data]    |     /home/donjon/nltk_data...\n",
      "[nltk_data]    |   Package names is already up-to-date!\n",
      "[nltk_data]    | Downloading package ppattach to\n",
      "[nltk_data]    |     /home/donjon/nltk_data...\n",
      "[nltk_data]    |   Package ppattach is already up-to-date!\n",
      "[nltk_data]    | Downloading package reuters to\n",
      "[nltk_data]    |     /home/donjon/nltk_data...\n",
      "[nltk_data]    |   Package reuters is already up-to-date!\n",
      "[nltk_data]    | Downloading package senseval to\n",
      "[nltk_data]    |     /home/donjon/nltk_data...\n",
      "[nltk_data]    |   Package senseval is already up-to-date!\n",
      "[nltk_data]    | Downloading package state_union to\n",
      "[nltk_data]    |     /home/donjon/nltk_data...\n",
      "[nltk_data]    |   Package state_union is already up-to-date!\n",
      "[nltk_data]    | Downloading package stopwords to\n",
      "[nltk_data]    |     /home/donjon/nltk_data...\n",
      "[nltk_data]    |   Package stopwords is already up-to-date!\n",
      "[nltk_data]    | Downloading package swadesh to\n",
      "[nltk_data]    |     /home/donjon/nltk_data...\n",
      "[nltk_data]    |   Package swadesh is already up-to-date!\n",
      "[nltk_data]    | Downloading package timit to\n",
      "[nltk_data]    |     /home/donjon/nltk_data...\n",
      "[nltk_data]    |   Package timit is already up-to-date!\n",
      "[nltk_data]    | Downloading package treebank to\n",
      "[nltk_data]    |     /home/donjon/nltk_data...\n",
      "[nltk_data]    |   Package treebank is already up-to-date!\n",
      "[nltk_data]    | Downloading package toolbox to\n",
      "[nltk_data]    |     /home/donjon/nltk_data...\n",
      "[nltk_data]    |   Package toolbox is already up-to-date!\n",
      "[nltk_data]    | Downloading package udhr to /home/donjon/nltk_data...\n",
      "[nltk_data]    |   Package udhr is already up-to-date!\n",
      "[nltk_data]    | Downloading package udhr2 to\n",
      "[nltk_data]    |     /home/donjon/nltk_data...\n",
      "[nltk_data]    |   Package udhr2 is already up-to-date!\n",
      "[nltk_data]    | Downloading package unicode_samples to\n",
      "[nltk_data]    |     /home/donjon/nltk_data...\n",
      "[nltk_data]    |   Package unicode_samples is already up-to-date!\n",
      "[nltk_data]    | Downloading package webtext to\n",
      "[nltk_data]    |     /home/donjon/nltk_data...\n",
      "[nltk_data]    |   Package webtext is already up-to-date!\n",
      "[nltk_data]    | Downloading package wordnet to\n",
      "[nltk_data]    |     /home/donjon/nltk_data...\n",
      "[nltk_data]    |   Package wordnet is already up-to-date!\n",
      "[nltk_data]    | Downloading package wordnet_ic to\n",
      "[nltk_data]    |     /home/donjon/nltk_data...\n",
      "[nltk_data]    |   Package wordnet_ic is already up-to-date!\n",
      "[nltk_data]    | Downloading package words to\n",
      "[nltk_data]    |     /home/donjon/nltk_data...\n",
      "[nltk_data]    |   Package words is already up-to-date!\n",
      "[nltk_data]    | Downloading package maxent_treebank_pos_tagger to\n",
      "[nltk_data]    |     /home/donjon/nltk_data...\n",
      "[nltk_data]    |   Package maxent_treebank_pos_tagger is already up-\n",
      "[nltk_data]    |       to-date!\n",
      "[nltk_data]    | Downloading package maxent_ne_chunker to\n",
      "[nltk_data]    |     /home/donjon/nltk_data...\n",
      "[nltk_data]    |   Package maxent_ne_chunker is already up-to-date!\n",
      "[nltk_data]    | Downloading package universal_tagset to\n",
      "[nltk_data]    |     /home/donjon/nltk_data...\n",
      "[nltk_data]    |   Package universal_tagset is already up-to-date!\n",
      "[nltk_data]    | Downloading package punkt to\n",
      "[nltk_data]    |     /home/donjon/nltk_data...\n",
      "[nltk_data]    |   Package punkt is already up-to-date!\n",
      "[nltk_data]    | Downloading package book_grammars to\n",
      "[nltk_data]    |     /home/donjon/nltk_data...\n",
      "[nltk_data]    |   Package book_grammars is already up-to-date!\n",
      "[nltk_data]    | Downloading package city_database to\n",
      "[nltk_data]    |     /home/donjon/nltk_data...\n",
      "[nltk_data]    |   Package city_database is already up-to-date!\n",
      "[nltk_data]    | Downloading package tagsets to\n",
      "[nltk_data]    |     /home/donjon/nltk_data...\n",
      "[nltk_data]    |   Package tagsets is already up-to-date!\n",
      "[nltk_data]    | Downloading package panlex_swadesh to\n",
      "[nltk_data]    |     /home/donjon/nltk_data...\n",
      "[nltk_data]    |   Package panlex_swadesh is already up-to-date!\n",
      "[nltk_data]    | Downloading package averaged_perceptron_tagger to\n",
      "[nltk_data]    |     /home/donjon/nltk_data...\n",
      "[nltk_data]    |   Package averaged_perceptron_tagger is already up-\n",
      "[nltk_data]    |       to-date!\n",
      "[nltk_data]    | \n",
      "[nltk_data]  Done downloading collection book\n"
     ]
    },
    {
     "data": {
      "text/plain": [
       "True"
      ]
     },
     "execution_count": 2,
     "metadata": {},
     "output_type": "execute_result"
    }
   ],
   "source": [
    "import nltk           # import the nltk library\n",
    "nltk.download(\"book\") # download an nltk package named \"book\""
   ]
  },
  {
   "cell_type": "markdown",
   "metadata": {},
   "source": [
    "The *book* package consists about about 30 compressed files. It occupies more than 100MBs of hard disk space."
   ]
  },
  {
   "cell_type": "code",
   "execution_count": 3,
   "metadata": {},
   "outputs": [
    {
     "name": "stdout",
     "output_type": "stream",
     "text": [
      "*** Introductory Examples for the NLTK Book ***\n",
      "Loading text1, ..., text9 and sent1, ..., sent9\n",
      "Type the name of the text or sentence to view it.\n",
      "Type: 'texts()' or 'sents()' to list the materials.\n",
      "text1: Moby Dick by Herman Melville 1851\n",
      "text2: Sense and Sensibility by Jane Austen 1811\n",
      "text3: The Book of Genesis\n",
      "text4: Inaugural Address Corpus\n",
      "text5: Chat Corpus\n",
      "text6: Monty Python and the Holy Grail\n",
      "text7: Wall Street Journal\n",
      "text8: Personals Corpus\n",
      "text9: The Man Who Was Thursday by G . K . Chesterton 1908\n",
      "<Text: Moby Dick by Herman Melville 1851>\n",
      "<Text: Sense and Sensibility by Jane Austen 1811>\n",
      "<Text: Personals Corpus>\n"
     ]
    }
   ],
   "source": [
    "from nltk.book import * # import all texts from the nltk.book library\n",
    "print(text1)\n",
    "print(text2)\n",
    "print(text8)"
   ]
  },
  {
   "cell_type": "markdown",
   "metadata": {},
   "source": [
    "The `text1`, `text2` and `text8` variables are objects of type `Text`. Its `__str__()` method outputs information about the text it contains (i.e. title, author, year of publication, etc.)"
   ]
  },
  {
   "cell_type": "markdown",
   "metadata": {},
   "source": [
    "## 1.3 Searching Text"
   ]
  },
  {
   "cell_type": "markdown",
   "metadata": {},
   "source": [
    "A concordance view shows us the occurance of a given word. It permits us to see words in context.\n",
    "\n",
    "The `.concordance(\"`*`word`*`\")` method of a `Text` outputs every occurance of a *word*."
   ]
  },
  {
   "cell_type": "code",
   "execution_count": 3,
   "metadata": {},
   "outputs": [
    {
     "name": "stdout",
     "output_type": "stream",
     "text": [
      "Displaying 11 of 11 matches:\n",
      "ong the former , one was of a most monstrous size . ... This came towards us , \n",
      "ON OF THE PSALMS . \" Touching that monstrous bulk of the whale or ork we have r\n",
      "ll over with a heathenish array of monstrous clubs and spears . Some were thick\n",
      "d as you gazed , and wondered what monstrous cannibal and savage could ever hav\n",
      "that has survived the flood ; most monstrous and most mountainous ! That Himmal\n",
      "they might scout at Moby Dick as a monstrous fable , or still worse and more de\n",
      "th of Radney .'\" CHAPTER 55 Of the Monstrous Pictures of Whales . I shall ere l\n",
      "ing Scenes . In connexion with the monstrous pictures of whales , I am strongly\n",
      "ere to enter upon those still more monstrous stories of them which are to be fo\n",
      "ght have been rummaged out of this monstrous cabinet there is no telling . But \n",
      "of Whale - Bones ; for Whales of a monstrous size are oftentimes cast up dead u\n"
     ]
    }
   ],
   "source": [
    "text1.concordance(\"monstrous\") # output every occurance of the word \"monstrous\" in text1"
   ]
  },
  {
   "cell_type": "markdown",
   "metadata": {},
   "source": [
    "The `.similar(\"`*`word`*`\")` method of a `Text` outputs words that have similar concordance to a given *word*. To put it differently, it shows words that have similar context."
   ]
  },
  {
   "cell_type": "code",
   "execution_count": 4,
   "metadata": {},
   "outputs": [
    {
     "name": "stdout",
     "output_type": "stream",
     "text": [
      "true contemptible christian abundant few part mean careful puzzled\n",
      "mystifying passing curious loving wise doleful gamesome singular\n",
      "delightfully perilous fearless\n",
      "very so exceedingly heartily a as good great extremely remarkably\n",
      "sweet vast amazingly\n"
     ]
    }
   ],
   "source": [
    "text1.similar(\"monstrous\") # output every word that have similar concordance to the word \"monstrous\" in text1\n",
    "text2.similar(\"monstrous\") # output every word that have similar concordance to the word \"monstrous\" in text2"
   ]
  },
  {
   "cell_type": "markdown",
   "metadata": {},
   "source": [
    "In the example above, the word *monstrous* has a more positive connotation in `text2` (Sense and Sensibility) than in `text1` (Moby Dick)."
   ]
  },
  {
   "cell_type": "markdown",
   "metadata": {},
   "source": [
    "The `.common_contexts([\"`*`word1`*`\", \"`*`word2`*`\", ...])` method of a `Text` outputs just the contexts that are shared by one or more words."
   ]
  },
  {
   "cell_type": "code",
   "execution_count": 5,
   "metadata": {},
   "outputs": [
    {
     "name": "stdout",
     "output_type": "stream",
     "text": [
      "am_glad a_pretty a_lucky is_pretty be_glad\n"
     ]
    }
   ],
   "source": [
    "# output just the common contexts of the words \"monstrous\" and \"very\" in text2\n",
    "text2.common_contexts([\"monstrous\", \"very\"])"
   ]
  },
  {
   "cell_type": "markdown",
   "metadata": {},
   "source": [
    "The `.dispersion_plot([\"`*`word1`*`\", \"`*`word2`*`\", ...])` method of a `Text` displays the location of a given list of words in a dispersion plot."
   ]
  },
  {
   "cell_type": "code",
   "execution_count": 7,
   "metadata": {},
   "outputs": [
    {
     "data": {
      "image/png": "[encoded data removed]",
      "text/plain": [
       "<Figure size 640x480 with 1 Axes>"
      ]
     },
     "metadata": {},
     "output_type": "display_data"
    }
   ],
   "source": [
    "# display a dispersion plot of the words \"citizens\", \"democracy\", \"freedom\", \"duties\" and \"America\" in text4\n",
    "text4.dispersion_plot([\"citizens\", \"democracy\", \"freedom\", \"duties\", \"America\"])"
   ]
  },
  {
   "cell_type": "markdown",
   "metadata": {},
   "source": [
    "In the example above, the information that's shown is the usage of the words *America*, *duties*, *freedom*, *democracy* and *citizens* of every presidential inaugural address of the USA over the past 220 years. `text4` is an artificial text constructed by joining the text of the Inaugural Address Corpus end-to-end."
   ]
  },
  {
   "cell_type": "markdown",
   "metadata": {},
   "source": [
    "The `.generate()` method of a `Text` generates random text in the style of the text contained in the object."
   ]
  },
  {
   "cell_type": "code",
   "execution_count": 10,
   "metadata": {},
   "outputs": [
    {
     "name": "stdout",
     "output_type": "stream",
     "text": [
      "laid by her , and said unto Cain , Where art thou , and said , Go to ,\n",
      "I will not do it for ten ' s sons ; we dreamed each man according to\n",
      "their generatio the firstborn said unto Laban , Because I said , Nay ,\n",
      "but Sarah shall her name be . , duke Elah , duke Shobal , and Akan .\n",
      "and looked upon my affliction . Bashemath Ishmael ' s blood , but Isra\n",
      "for as a prince hast thou found of all the cattle in the valley , and\n",
      "the wo The\n"
     ]
    },
    {
     "data": {
      "text/plain": [
       "\"laid by her , and said unto Cain , Where art thou , and said , Go to ,\\nI will not do it for ten ' s sons ; we dreamed each man according to\\ntheir generatio the firstborn said unto Laban , Because I said , Nay ,\\nbut Sarah shall her name be . , duke Elah , duke Shobal , and Akan .\\nand looked upon my affliction . Bashemath Ishmael ' s blood , but Isra\\nfor as a prince hast thou found of all the cattle in the valley , and\\nthe wo The\""
      ]
     },
     "execution_count": 10,
     "metadata": {},
     "output_type": "execute_result"
    }
   ],
   "source": [
    "text3.generate() # generate random text in the style of text3"
   ]
  },
  {
   "cell_type": "markdown",
   "metadata": {},
   "source": [
    "## 1.4 Counting Vocabulary"
   ]
  },
  {
   "cell_type": "markdown",
   "metadata": {},
   "source": [
    "**Text:** a sequence of words and punctuation. Texts are stored as a list of words (and punctuation symbols) named tokens. Each token is a string type.\n",
    "\n",
    "**Token:** a token is a technical name of a sequence of characters — such as `hairy`, `his`, or `:)` — that we want to treat as a group.\n",
    "\n",
    "**Word Type:** a word type is the form or spelling of the word independently of its specific occurrences in a text that are NOT punctuation symbols."
   ]
  },
  {
   "cell_type": "markdown",
   "metadata": {},
   "source": [
    "When the `len()` function is applied to a `Text`, it outputs the number of tokens that it contains."
   ]
  },
  {
   "cell_type": "code",
   "execution_count": 13,
   "metadata": {},
   "outputs": [
    {
     "data": {
      "text/plain": [
       "44764"
      ]
     },
     "execution_count": 13,
     "metadata": {},
     "output_type": "execute_result"
    }
   ],
   "source": [
    "len(text3) # output the number of tokens that text3 contains"
   ]
  },
  {
   "cell_type": "markdown",
   "metadata": {},
   "source": [
    "If we would like to know the number of unique tokens a `Text` has, we can make use of the `set()` function."
   ]
  },
  {
   "cell_type": "code",
   "execution_count": 15,
   "metadata": {},
   "outputs": [
    {
     "name": "stdout",
     "output_type": "stream",
     "text": [
      "['!', \"'\", '(', ')', ',', ',)', '.', '.)', ':', ';', ';)', '?', '?)', 'A', 'Abel', 'Abelmizraim', 'Abidah', 'Abide', 'Abimael', 'Abimelech', 'Abr', 'Abrah', 'Abraham', 'Abram', 'Accad', 'Achbor', 'Adah', 'Adam', 'Adbeel', 'Admah', 'Adullamite', 'After', 'Aholibamah', 'Ahuzzath', 'Ajah', 'Akan', 'All', 'Allonbachuth', 'Almighty', 'Almodad', 'Also', 'Alvah', 'Alvan', 'Am', 'Amal', 'Amalek', 'Amalekites', 'Ammon', 'Amorite', 'Amorites', 'Amraphel', 'An', 'Anah', 'Anamim', 'And', 'Aner', 'Angel', 'Appoint', 'Aram', 'Aran', 'Ararat', 'Arbah', 'Ard', 'Are', 'Areli', 'Arioch', 'Arise', 'Arkite', 'Arodi', 'Arphaxad', 'Art', 'Arvadite', 'As', 'Asenath', 'Ashbel', 'Asher', 'Ashkenaz', 'Ashteroth', 'Ask', 'Asshur', 'Asshurim', 'Assyr', 'Assyria', 'At', 'Atad', 'Avith', 'Baalhanan', 'Babel', 'Bashemath', 'Be', 'Because', 'Becher', 'Bedad', 'Beeri', 'Beerlahairoi', 'Beersheba', 'Behold', 'Bela', 'Belah', 'Benam', 'Benjamin', 'Beno', 'Beor', 'Bera', 'Bered', 'Beriah', 'Bethel', 'Bethlehem', 'Bethuel', 'Beware', 'Bilhah', 'Bilhan', 'Binding', 'Birsha', 'Bless', 'Blessed', 'Both', 'Bow', 'Bozrah', 'Bring', 'But', 'Buz', 'By', 'Cain', 'Cainan', 'Calah', 'Calneh', 'Can', 'Cana', 'Canaan', 'Canaanite', 'Canaanites', 'Canaanitish', 'Caphtorim', 'Carmi', 'Casluhim', 'Cast', 'Cause', 'Chaldees', 'Chedorlaomer', 'Cheran', 'Cherubims', 'Chesed', 'Chezib', 'Come', 'Cursed', 'Cush', 'Damascus', 'Dan', 'Day', 'Deborah', 'Dedan', 'Deliver', 'Diklah', 'Din', 'Dinah', 'Dinhabah', 'Discern', 'Dishan', 'Dishon', 'Do', 'Dodanim', 'Dothan', 'Drink', 'Duke', 'Dumah', 'Earth', 'Ebal', 'Eber', 'Edar', 'Eden', 'Edom', 'Edomites', 'Egy', 'Egypt', 'Egyptia', 'Egyptian', 'Egyptians', 'Ehi', 'Elah', 'Elam', 'Elbethel', 'Eldaah', 'EleloheIsrael', 'Eliezer', 'Eliphaz', 'Elishah', 'Ellasar', 'Elon', 'Elparan', 'Emins', 'En', 'Enmishpat', 'Eno', 'Enoch', 'Enos', 'Ephah', 'Epher', 'Ephra', 'Ephraim', 'Ephrath', 'Ephron', 'Er', 'Erech', 'Eri', 'Es', 'Esau', 'Escape', 'Esek', 'Eshban', 'Eshcol', 'Ethiopia', 'Euphrat', 'Euphrates', 'Eve', 'Even', 'Every', 'Except', 'Ezbon', 'Ezer', 'Fear', 'Feed', 'Fifteen', 'Fill', 'For', 'Forasmuch', 'Forgive', 'From', 'Fulfil', 'G', 'Gad', 'Gaham', 'Galeed', 'Gatam', 'Gather', 'Gaza', 'Gentiles', 'Gera', 'Gerar', 'Gershon', 'Get', 'Gether', 'Gihon', 'Gilead', 'Girgashites', 'Girgasite', 'Give', 'Go', 'God', 'Gomer', 'Gomorrah', 'Goshen', 'Guni', 'Hadad', 'Hadar', 'Hadoram', 'Hagar', 'Haggi', 'Hai', 'Ham', 'Hamathite', 'Hamor', 'Hamul', 'Hanoch', 'Happy', 'Haran', 'Hast', 'Haste', 'Have', 'Havilah', 'Hazarmaveth', 'Hazezontamar', 'Hazo', 'He', 'Hear', 'Heaven', 'Heber', 'Hebrew', 'Hebrews', 'Hebron', 'Hemam', 'Hemdan', 'Here', 'Hereby', 'Heth', 'Hezron', 'Hiddekel', 'Hinder', 'Hirah', 'His', 'Hitti', 'Hittite', 'Hittites', 'Hivite', 'Hobah', 'Hori', 'Horite', 'Horites', 'How', 'Hul', 'Huppim', 'Husham', 'Hushim', 'Huz', 'I', 'If', 'In', 'Irad', 'Iram', 'Is', 'Isa', 'Isaac', 'Iscah', 'Ishbak', 'Ishmael', 'Ishmeelites', 'Ishuah', 'Isra', 'Israel', 'Issachar', 'Isui', 'It', 'Ithran', 'Jaalam', 'Jabal', 'Jabbok', 'Jac', 'Jachin', 'Jacob', 'Jahleel', 'Jahzeel', 'Jamin', 'Japhe', 'Japheth', 'Jared', 'Javan', 'Jebusite', 'Jebusites', 'Jegarsahadutha', 'Jehovahjireh', 'Jemuel', 'Jerah', 'Jetheth', 'Jetur', 'Jeush', 'Jezer', 'Jidlaph', 'Jimnah', 'Job', 'Jobab', 'Jokshan', 'Joktan', 'Jordan', 'Joseph', 'Jubal', 'Judah', 'Judge', 'Judith', 'Kadesh', 'Kadmonites', 'Karnaim', 'Kedar', 'Kedemah', 'Kemuel', 'Kenaz', 'Kenites', 'Kenizzites', 'Keturah', 'Kiriathaim', 'Kirjatharba', 'Kittim', 'Know', 'Kohath', 'Kor', 'Korah', 'LO', 'LORD', 'Laban', 'Lahairoi', 'Lamech', 'Lasha', 'Lay', 'Leah', 'Lehabim', 'Lest', 'Let', 'Letushim', 'Leummim', 'Levi', 'Lie', 'Lift', 'Lo', 'Look', 'Lot', 'Lotan', 'Lud', 'Ludim', 'Luz', 'Maachah', 'Machir', 'Machpelah', 'Madai', 'Magdiel', 'Magog', 'Mahalaleel', 'Mahalath', 'Mahanaim', 'Make', 'Malchiel', 'Male', 'Mam', 'Mamre', 'Man', 'Manahath', 'Manass', 'Manasseh', 'Mash', 'Masrekah', 'Massa', 'Matred', 'Me', 'Medan', 'Mehetabel', 'Mehujael', 'Melchizedek', 'Merari', 'Mesha', 'Meshech', 'Mesopotamia', 'Methusa', 'Methusael', 'Methuselah', 'Mezahab', 'Mibsam', 'Mibzar', 'Midian', 'Midianites', 'Milcah', 'Mishma', 'Mizpah', 'Mizraim', 'Mizz', 'Moab', 'Moabites', 'Moreh', 'Moreover', 'Moriah', 'Muppim', 'My', 'Naamah', 'Naaman', 'Nahath', 'Nahor', 'Naphish', 'Naphtali', 'Naphtuhim', 'Nay', 'Nebajoth', 'Neither', 'Night', 'Nimrod', 'Nineveh', 'Noah', 'Nod', 'Not', 'Now', 'O', 'Obal', 'Of', 'Oh', 'Ohad', 'Omar', 'On', 'Onam', 'Onan', 'Only', 'Ophir', 'Our', 'Out', 'Padan', 'Padanaram', 'Paran', 'Pass', 'Pathrusim', 'Pau', 'Peace', 'Peleg', 'Peniel', 'Penuel', 'Peradventure', 'Perizzit', 'Perizzite', 'Perizzites', 'Phallu', 'Phara', 'Pharaoh', 'Pharez', 'Phichol', 'Philistim', 'Philistines', 'Phut', 'Phuvah', 'Pildash', 'Pinon', 'Pison', 'Potiphar', 'Potipherah', 'Put', 'Raamah', 'Rachel', 'Rameses', 'Rebek', 'Rebekah', 'Rehoboth', 'Remain', 'Rephaims', 'Resen', 'Return', 'Reu', 'Reub', 'Reuben', 'Reuel', 'Reumah', 'Riphath', 'Rosh', 'Sabtah', 'Sabtech', 'Said', 'Salah', 'Salem', 'Samlah', 'Sarah', 'Sarai', 'Saul', 'Save', 'Say', 'Se', 'Seba', 'See', 'Seeing', 'Seir', 'Sell', 'Send', 'Sephar', 'Serah', 'Sered', 'Serug', 'Set', 'Seth', 'Shalem', 'Shall', 'Shalt', 'Shammah', 'Shaul', 'Shaveh', 'She', 'Sheba', 'Shebah', 'Shechem', 'Shed', 'Shel', 'Shelah', 'Sheleph', 'Shem', 'Shemeber', 'Shepho', 'Shillem', 'Shiloh', 'Shimron', 'Shinab', 'Shinar', 'Shobal', 'Should', 'Shuah', 'Shuni', 'Shur', 'Sichem', 'Siddim', 'Sidon', 'Simeon', 'Sinite', 'Sitnah', 'Slay', 'So', 'Sod', 'Sodom', 'Sojourn', 'Some', 'Spake', 'Speak', 'Spirit', 'Stand', 'Succoth', 'Surely', 'Swear', 'Syrian', 'Take', 'Tamar', 'Tarshish', 'Tebah', 'Tell', 'Tema', 'Teman', 'Temani', 'Terah', 'Thahash', 'That', 'The', 'Then', 'There', 'Therefore', 'These', 'They', 'Thirty', 'This', 'Thorns', 'Thou', 'Thus', 'Thy', 'Tidal', 'Timna', 'Timnah', 'Timnath', 'Tiras', 'To', 'Togarmah', 'Tola', 'Tubal', 'Tubalcain', 'Twelve', 'Two', 'Unstable', 'Until', 'Unto', 'Up', 'Upon', 'Ur', 'Uz', 'Uzal', 'We', 'What', 'When', 'Whence', 'Where', 'Whereas', 'Wherefore', 'Which', 'While', 'Who', 'Whose', 'Whoso', 'Why', 'Wilt', 'With', 'Woman', 'Ye', 'Yea', 'Yet', 'Zaavan', 'Zaphnathpaaneah', 'Zar', 'Zarah', 'Zeboiim', 'Zeboim', 'Zebul', 'Zebulun', 'Zemarite', 'Zepho', 'Zerah', 'Zibeon', 'Zidon', 'Zillah', 'Zilpah', 'Zimran', 'Ziphion', 'Zo', 'Zoar', 'Zohar', 'Zuzims', 'a', 'abated', 'abide', 'able', 'abode', 'abomination', 'about', 'above', 'abroad', 'absent', 'abundantly', 'accept', 'accepted', 'according', 'acknowledged', 'activity', 'add', 'adder', 'afar', 'afflict', 'affliction', 'afraid', 'after', 'afterward', 'afterwards', 'aga', 'again', 'against', 'age', 'aileth', 'air', 'al', 'alive', 'all', 'almon', 'alo', 'alone', 'aloud', 'also', 'altar', 'altogether', 'always', 'am', 'among', 'amongst', 'an', 'and', 'angel', 'angels', 'anger', 'angry', 'anguish', 'anointedst', 'anoth', 'another', 'answer', 'answered', 'any', 'anything', 'appe', 'appear', 'appeared', 'appease', 'appoint', 'appointed', 'aprons', 'archer', 'archers', 'are', 'arise', 'ark', 'armed', 'arms', 'army', 'arose', 'arrayed', 'art', 'artificer', 'as', 'ascending', 'ash', 'ashamed', 'ask', 'asked', 'asketh', 'ass', 'assembly', 'asses', 'assigned', 'asswaged', 'at', 'attained', 'audience', 'avenged', 'aw', 'awaked', 'away', 'awoke', 'back', 'backward', 'bad', 'bade', 'badest', 'badne', 'bak', 'bake', 'bakemeats', 'baker', 'bakers', 'balm', 'bands', 'bank', 'bare', 'barr', 'barren', 'basket', 'baskets', 'battle', 'bdellium', 'be', 'bear', 'beari', 'bearing', 'beast', 'beasts', 'beautiful', 'became', 'because', 'become', 'bed', 'been', 'befall', 'befell', 'before', 'began', 'begat', 'beget', 'begettest', 'begin', 'beginning', 'begotten', 'beguiled', 'beheld', 'behind', 'behold', 'being', 'believed', 'belly', 'belong', 'beneath', 'bereaved', 'beside', 'besides', 'besought', 'best', 'betimes', 'better', 'between', 'betwixt', 'beyond', 'binding', 'bird', 'birds', 'birthday', 'birthright', 'biteth', 'bitter', 'blame', 'blameless', 'blasted', 'bless', 'blessed', 'blesseth', 'blessi', 'blessing', 'blessings', 'blindness', 'blood', 'blossoms', 'bodies', 'boldly', 'bondman', 'bondmen', 'bondwoman', 'bone', 'bones', 'book', 'booths', 'border', 'borders', 'born', 'bosom', 'both', 'bottle', 'bou', 'boug', 'bough', 'bought', 'bound', 'bow', 'bowed', 'bowels', 'bowing', 'boys', 'bracelets', 'branches', 'brass', 'bre', 'breach', 'bread', 'breadth', 'break', 'breaketh', 'breaking', 'breasts', 'breath', 'breathed', 'breed', 'brethren', 'brick', 'brimstone', 'bring', 'brink', 'broken', 'brook', 'broth', 'brother', 'brought', 'brown', 'bruise', 'budded', 'build', 'builded', 'built', 'bulls', 'bundle', 'bundles', 'burdens', 'buried', 'burn', 'burning', 'burnt', 'bury', 'buryingplace', 'business', 'but', 'butler', 'butlers', 'butlership', 'butter', 'buy', 'by', 'cakes', 'calf', 'call', 'called', 'came', 'camel', 'camels', 'camest', 'can', 'cannot', 'canst', 'captain', 'captive', 'captives', 'carcases', 'carried', 'carry', 'cast', 'castles', 'catt', 'cattle', 'caught', 'cause', 'caused', 'cave', 'cease', 'ceased', 'certain', 'certainly', 'chain', 'chamber', 'change', 'changed', 'changes', 'charge', 'charged', 'chariot', 'chariots', 'chesnut', 'chi', 'chief', 'child', 'childless', 'childr', 'children', 'chode', 'choice', 'chose', 'circumcis', 'circumcise', 'circumcised', 'citi', 'cities', 'city', 'clave', 'clean', 'clear', 'cleave', 'clo', 'closed', 'clothed', 'clothes', 'cloud', 'clusters', 'co', 'coat', 'coats', 'coffin', 'cold', 'colours', 'colt', 'colts', 'come', 'comest', 'cometh', 'comfort', 'comforted', 'comi', 'coming', 'command', 'commanded', 'commanding', 'commandment', 'commandments', 'commended', 'committed', 'commune', 'communed', 'communing', 'company', 'compassed', 'compasseth', 'conceal', 'conceive', 'conceived', 'conception', 'concerning', 'concubi', 'concubine', 'concubines', 'confederate', 'confound', 'consent', 'conspired', 'consume', 'consumed', 'content', 'continually', 'continued', 'cool', 'corn', 'corrupt', 'corrupted', 'couch', 'couched', 'couching', 'could', 'counted', 'countenance', 'countries', 'country', 'covenant', 'covered', 'covering', 'created', 'creature', 'creepeth', 'creeping', 'cried', 'crieth', 'crown', 'cru', 'cruelty', 'cry', 'cubit', 'cubits', 'cunning', 'cup', 'current', 'curse', 'cursed', 'curseth', 'custom', 'cut', 'd', 'da', 'dainties', 'dale', 'damsel', 'damsels', 'dark', 'darkne', 'darkness', 'daughers', 'daught', 'daughte', 'daughter', 'daughters', 'day', 'days', 'dea', 'dead', 'deal', 'dealt', 'dearth', 'death', 'deceitfully', 'deceived', 'deceiver', 'declare', 'decreased', 'deed', 'deeds', 'deep', 'deferred', 'defiled', 'defiledst', 'delight', 'deliver', 'deliverance', 'delivered', 'denied', 'depart', 'departed', 'departing', 'deprived', 'descending', 'desire', 'desired', 'desolate', 'despised', 'destitute', 'destroy', 'destroyed', 'devour', 'devoured', 'dew', 'did', 'didst', 'die', 'died', 'digged', 'dignity', 'dim', 'dine', 'dipped', 'direct', 'discern', 'discerned', 'discreet', 'displease', 'displeased', 'distress', 'distressed', 'divide', 'divided', 'divine', 'divineth', 'do', 'doe', 'doer', 'doest', 'doeth', 'doing', 'dominion', 'done', 'door', 'dost', 'doth', 'double', 'doubled', 'doubt', 'dove', 'down', 'dowry', 'drank', 'draw', 'dread', 'dreadful', 'dream', 'dreamed', 'dreamer', 'dreams', 'dress', 'dressed', 'drew', 'dried', 'drink', 'drinketh', 'drinking', 'driven', 'drought', 'drove', 'droves', 'drunken', 'dry', 'duke', 'dukes', 'dunge', 'dungeon', 'dust', 'dwe', 'dwell', 'dwelled', 'dwelling', 'dwelt', 'e', 'ea', 'each', 'ear', 'earing', 'early', 'earring', 'earrings', 'ears', 'earth', 'east', 'eastward', 'eat', 'eaten', 'eatest', 'edge', 'eight', 'eighteen', 'eighty', 'either', 'elder', 'elders', 'eldest', 'eleven', 'else', 'embalm', 'embalmed', 'embraced', 'emptied', 'empty', 'end', 'ended', 'endued', 'endure', 'enemies', 'enlarge', 'enmity', 'enough', 'enquire', 'enter', 'entered', 'entreated', 'envied', 'erected', 'errand', 'escape', 'escaped', 'espied', 'establish', 'established', 'ev', 'even', 'evening', 'eventide', 'ever', 'everlasting', 'every', 'evil', 'ewe', 'ewes', 'exceeding', 'exceedingly', 'excel', 'excellency', 'except', 'exchange', 'experience', 'ey', 'eyed', 'eyes', 'fa', 'face', 'faces', 'fai', 'fail', 'failed', 'faileth', 'fainted', 'fair', 'fall', 'fallen', 'falsely', 'fame', 'families', 'famine', 'famished', 'far', 'fashion', 'fast', 'fat', 'fatfleshed', 'fath', 'fathe', 'father', 'fathers', 'fatness', 'faults', 'favour', 'favoured', 'fear', 'feared', 'fearest', 'feast', 'fed', 'feeble', 'feebler', 'feed', 'feeding', 'feel', 'feet', 'fell', 'fellow', 'felt', 'fema', 'female', 'fetch', 'fetched', 'fetcht', 'few', 'fie', 'field', 'fierce', 'fifteen', 'fifth', 'fifty', 'fig', 'fill', 'filled', 'find', 'findest', 'findeth', 'finding', 'fine', 'finish', 'finished', 'fir', 'fire', 'firmame', 'firmament', 'first', 'firstborn', 'firstlings', 'fish', 'fishes', 'five', 'flaming', 'fle', 'fled', 'fleddest', 'flee', 'flesh', 'flo', 'floc', 'flock', 'flocks', 'flood', 'floor', 'fly', 'fo', 'foal', 'foals', 'folk', 'follow', 'followed', 'following', 'folly', 'food', 'foolishly', 'foot', 'for', 'forbid', 'force', 'ford', 'foremost', 'foreskin', 'forgat', 'forget', 'forgive', 'forgotten', 'form', 'formed', 'former', 'forth', 'forty', 'forward', 'fou', 'found', 'fountain', 'fountains', 'four', 'fourscore', 'fourteen', 'fourteenth', 'fourth', 'fowl', 'fowls', 'freely', 'friend', 'friends', 'fro', 'from', 'frost', 'fruit', 'fruitful', 'fruits', 'fugitive', 'fulfilled', 'full', 'furnace', 'furniture', 'fury', 'gard', 'garden', 'garmen', 'garment', 'garments', 'gat', 'gate', 'gather', 'gathered', 'gathering', 'gave', 'gavest', 'generatio', 'generation', 'generations', 'get', 'getting', 'ghost', 'giants', 'gift', 'gifts', 'give', 'given', 'giveth', 'giving', 'glory', 'go', 'goa', 'goat', 'goats', 'gods', 'goest', 'goeth', 'going', 'gold', 'golden', 'gone', 'good', 'goodly', 'goods', 'gopher', 'got', 'gotten', 'governor', 'gr', 'grace', 'gracious', 'graciously', 'grap', 'grapes', 'grass', 'grave', 'gray', 'gre', 'great', 'greater', 'greatly', 'green', 'grew', 'grief', 'grieved', 'grievous', 'grisl', 'grisled', 'gro', 'ground', 'grove', 'grow', 'grown', 'guard', 'guiding', 'guiltiness', 'guilty', 'gutters', 'h', 'ha', 'habitations', 'had', 'hadst', 'hairs', 'hairy', 'half', 'halted', 'han', 'hand', 'handfuls', 'handle', 'handmaid', 'handmaidens', 'handmaids', 'hands', 'hang', 'hanged', 'hard', 'hardly', 'harlot', 'harm', 'harp', 'harvest', 'hast', 'haste', 'hasted', 'hastened', 'hastily', 'hate', 'hated', 'hath', 'have', 'haven', 'having', 'hazel', 'he', 'head', 'heads', 'healed', 'health', 'heap', 'hear', 'heard', 'hearken', 'hearkened', 'heart', 'hearth', 'hearts', 'heat', 'heav', 'heaven', 'heavens', 'heed', 'heel', 'heels', 'heifer', 'height', 'heir', 'held', 'help', 'hence', 'henceforth', 'her', 'herb', 'herd', 'herdmen', 'herds', 'here', 'herein', 'herself', 'hid', 'hide', 'high', 'hil', 'hills', 'him', 'himself', 'hind', 'hindermost', 'hire', 'hired', 'his', 'hith', 'hither', 'hold', 'hollow', 'home', 'honey', 'honour', 'honourable', 'hor', 'horror', 'horse', 'horsemen', 'horses', 'host', 'hotly', 'hou', 'hous', 'house', 'household', 'households', 'how', 'hundred', 'hundredfo', 'hundredth', 'hunt', 'hunter', 'hunting', 'hurt', 'husba', 'husband', 'husbandman', 'if', 'ill', 'image', 'images', 'imagination', 'imagined', 'in', 'increase', 'increased', 'indeed', 'inhabitants', 'inhabited', 'inherit', 'inheritance', 'iniquity', 'inn', 'innocency', 'instead', 'instructor', 'instruments', 'integrity', 'interpret', 'interpretation', 'interpretations', 'interpreted', 'interpreter', 'into', 'intreat', 'intreated', 'ir', 'is', 'isles', 'issue', 'it', 'itself', 'jewels', 'joined', 'joint', 'journey', 'journeyed', 'journeys', 'jud', 'judge', 'judged', 'judgment', 'just', 'justice', 'keep', 'keeper', 'kept', 'ki', 'kid', 'kids', 'kill', 'killed', 'kind', 'kindled', 'kindly', 'kindness', 'kindred', 'kinds', 'kine', 'king', 'kingdom', 'kings', 'kiss', 'kissed', 'kn', 'knead', 'kneel', 'knees', 'knew', 'knife', 'know', 'knowest', 'knoweth', 'knowing', 'knowledge', 'known', 'la', 'labour', 'lack', 'lad', 'ladder', 'lade', 'laded', 'laden', 'lads', 'laid', 'lamb', 'lambs', 'lamentati', 'lamp', 'lan', 'land', 'lands', 'language', 'large', 'last', 'laugh', 'laughed', 'law', 'lawgiver', 'laws', 'lay', 'lead', 'leaf', 'lean', 'leanfleshed', 'leap', 'leaped', 'learned', 'least', 'leave', 'leaves', 'led', 'left', 'length', 'lentiles', 'lesser', 'lest', 'let', 'li', 'lie', 'lien', 'liest', 'lieth', 'life', 'lift', 'lifted', 'light', 'lighted', 'lightly', 'lights', 'like', 'likene', 'likeness', 'linen', 'lingered', 'lion', 'little', 'live', 'lived', 'lives', 'liveth', 'living', 'lo', 'lodge', 'lodged', 'loins', 'long', 'longedst', 'longeth', 'look', 'looked', 'loose', 'lord', 'lords', 'loss', 'loud', 'love', 'loved', 'lovest', 'loveth', 'lower', 'lying', 'm', 'ma', 'made', 'magicians', 'magnified', 'maid', 'maiden', 'maidservants', 'make', 'male', 'males', 'man', 'mandrakes', 'manner', 'many', 'mark', 'marriages', 'married', 'marry', 'marvelled', 'mast', 'master', 'matter', 'may', 'mayest', 'me', 'mead', 'meadow', 'meal', 'mean', 'meanest', 'meant', 'measures', 'meat', 'meditate', 'meet', 'meeteth', 'men', 'menservants', 'mention', 'merchant', 'merchantmen', 'mercies', 'merciful', 'mercy', 'merry', 'mess', 'messenger', 'messengers', 'messes', 'met', 'mi', 'midst', 'midwife', 'might', 'mightier', 'mighty', 'milch', 'milk', 'millions', 'mind', 'mine', 'mirth', 'mischief', 'mist', 'mistress', 'mock', 'mocked', 'mocking', 'money', 'month', 'months', 'moon', 'more', 'moreover', 'morever', 'morning', 'morrow', 'morsel', 'morter', 'most', 'mother', 'mou', 'mount', 'mountain', 'mountains', 'mourn', 'mourned', 'mourning', 'mouth', 'mouths', 'moved', 'moveth', 'moving', 'much', 'mules', 'multiplied', 'multiply', 'multiplying', 'multitude', 'must', 'my', 'myrrh', 'myself', 'n', 'na', 'naked', 'nakedness', 'name', 'named', 'names', 'nati', 'natio', 'nation', 'nations', 'nativity', 'ne', 'near', 'neck', 'needeth', 'needs', 'neither', 'never', 'next', 'nig', 'nigh', 'night', 'nights', 'nine', 'nineteen', 'ninety', 'no', 'none', 'noon', 'nor', 'north', 'northward', 'nostrils', 'not', 'nothing', 'nought', 'nourish', 'nourished', 'now', 'number', 'numbered', 'numbering', 'nurse', 'nuts', 'o', 'oa', 'oak', 'oath', 'obeisance', 'obey', 'obeyed', 'observed', 'obtain', 'occasion', 'occupation', 'of', 'off', 'offended', 'offer', 'offered', 'offeri', 'offering', 'offerings', 'office', 'officer', 'officers', 'oil', 'old', 'olive', 'on', 'one', 'ones', 'only', 'onyx', 'open', 'opened', 'openly', 'or', 'order', 'organ', 'oth', 'other', 'ou', 'ought', 'our', 'ours', 'ourselves', 'out', 'over', 'overcome', 'overdrive', 'overseer', 'oversig', 'overspread', 'overtake', 'overthrew', 'overthrow', 'overtook', 'own', 'oxen', 'parcel', 'part', 'parted', 'parts', 'pass', 'passed', 'past', 'pasture', 'path', 'pea', 'peace', 'peaceable', 'peaceably', 'peop', 'people', 'peradventure', 'perceived', 'perfect', 'perform', 'perish', 'perpetual', 'person', 'persons', 'physicians', 'piece', 'pieces', 'pigeon', 'pilgrimage', 'pillar', 'pilled', 'pillows', 'pit', 'pitch', 'pitched', 'pitcher', 'pla', 'place', 'placed', 'places', 'plagued', 'plagues', 'plain', 'plains', 'plant', 'planted', 'played', 'pleasant', 'pleased', 'pleaseth', 'pleasure', 'pledge', 'plenteous', 'plenteousness', 'plenty', 'pluckt', 'point', 'poor', 'poplar', 'portion', 'possess', 'possessi', 'possession', 'possessions', 'possessor', 'posterity', 'pottage', 'poured', 'poverty', 'pow', 'power', 'praise', 'pray', 'prayed', 'precious', 'prepared', 'presence', 'present', 'presented', 'preserve', 'preserved', 'pressed', 'prevail', 'prevailed', 'prey', 'priest', 'priests', 'prince', 'princes', 'pris', 'prison', 'prisoners', 'proceedeth', 'process', 'profit', 'progenitors', 'prophet', 'prosper', 'prospered', 'prosperous', 'protest', 'proved', 'provender', 'provide', 'provision', 'pulled', 'punishment', 'purchase', 'purchased', 'purposing', 'pursue', 'pursued', 'put', 'putting', 'quart', 'quickly', 'quite', 'quiver', 'raiment', 'rain', 'rained', 'raise', 'ram', 'rams', 'ran', 'rank', 'raven', 'ravin', 'reach', 'reached', 'ready', 'reason', 'rebelled', 'rebuked', 'receive', 'received', 'red', 'redeemed', 'refrain', 'refrained', 'refused', 'regard', 'reign', 'reigned', 'remained', 'remaineth', 'remember', 'remembered', 'remove', 'removed', 'removing', 'renown', 'rent', 'repented', 'repenteth', 'replenish', 'report', 'reproa', 'reproach', 'reproved', 'require', 'required', 'requite', 'reserved', 'respect', 'rest', 'rested', 'restore', 'restored', 'restrained', 'return', 'returned', 'reviv', 'reward', 'rewarded', 'ri', 'rib', 'ribs', 'rich', 'riches', 'rid', 'ride', 'rider', 'right', 'righteous', 'righteousness', 'rightly', 'ring', 'ringstraked', 'ripe', 'rise', 'risen', 'riv', 'river', 'rode', 'rods', 'roll', 'rolled', 'roof', 'room', 'rooms', 'rose', 'roughly', 'round', 'rouse', 'royal', 'rul', 'rule', 'ruled', 'ruler', 'rulers', 'run', 's', 'sa', 'sac', 'sack', 'sackcloth', 'sacks', 'sacrifice', 'sacrifices', 'sad', 'saddled', 'sadly', 'said', 'saidst', 'saith', 'sake', 'sakes', 'salt', 'salvation', 'same', 'sanctified', 'sand', 'sat', 'save', 'saved', 'saving', 'savour', 'savoury', 'saw', 'sawest', 'say', 'saying', 'scarce', 'scarlet', 'scatter', 'scattered', 'sceptre', 'sea', 'searched', 'seas', 'season', 'seasons', 'second', 'secret', 'secretly', 'see', 'seed', 'seedtime', 'seeing', 'seek', 'seekest', 'seem', 'seemed', 'seen', 'seest', 'seeth', 'selfsame', 'selfwill', 'sell', 'send', 'sent', 'separate', 'separated', 'sepulchre', 'sepulchres', 'serpent', 'serva', 'servan', 'servant', 'servants', 'serve', 'served', 'service', 'set', 'seven', 'sevenfold', 'sevens', 'seventeen', 'seventeenth', 'seventh', 'seventy', 'sewed', 'sh', 'shadow', 'shall', 'shalt', 'shamed', 'shaved', 'she', 'sheaf', 'shear', 'sheaves', 'shed', 'sheddeth', 'sheep', 'sheepshearers', 'shekel', 'shekels', 'shepherd', 'shepherds', 'shew', 'shewed', 'sheweth', 'shield', 'ships', 'shoelatchet', 'shore', 'shortly', 'shot', 'should', 'shoulder', 'shoulders', 'shouldest', 'shrank', 'shrubs', 'shut', 'si', 'side', 'sight', 'signet', 'signs', 'silv', 'silver', 'sin', 'since', 'sinew', 'sinners', 'sinning', 'sir', 'sist', 'sister', 'sit', 'six', 'sixteen', 'sixth', 'sixty', 'skins', 'slain', 'slaughter', 'slay', 'slayeth', 'sle', 'sleep', 'slept', 'slew', 'slime', 'slimepits', 'small', 'smell', 'smelled', 'smite', 'smoke', 'smoking', 'smooth', 'smote', 'so', 'sod', 'softly', 'sojourn', 'sojourned', 'sojourner', 'sold', 'sole', 'solemnly', 'some', 'son', 'songs', 'sons', 'soon', 'sore', 'sorely', 'sorrow', 'sort', 'sou', 'sought', 'soul', 'souls', 'south', 'southward', 'sow', 'sowed', 'space', 'spake', 'spare', 'spe', 'speak', 'speaketh', 'speaking', 'speckl', 'speckled', 'spee', 'speech', 'speed', 'speedily', 'spent', 'spi', 'spicery', 'spices', 'spies', 'spilled', 'spirit', 'spoil', 'spoiled', 'spoken', 'sporting', 'spotted', 'spread', 'springing', 'sprung', 'staff', 'stalk', 'stand', 'standest', 'stars', 'state', 'statutes', 'stay', 'stayed', 'ste', 'stead', 'steal', 'steward', 'still', 'stink', 'sto', 'stole', 'stolen', 'stone', 'stones', 'stood', 'stooped', 'stopped', 'store', 'storehouses', 'stories', 'straitly', 'strakes', 'strange', 'stranger', 'strangers', 'straw', 'street', 'strength', 'strengthened', 'stretched', 'stricken', 'strife', 'stript', 'strive', 'strong', 'stronger', 'strove', 'struggled', 'stuff', 'subdue', 'submit', 'substance', 'subtil', 'subtilty', 'such', 'suck', 'suffered', 'summer', 'sun', 'supplanted', 'sure', 'surely', 'surety', 'sustained', 'sware', 'swear', 'sweat', 'sweet', 'sword', 'sworn', 'tabret', 'tak', 'take', 'taken', 'talked', 'talking', 'tar', 'tarried', 'tarry', 'teeth', 'tell', 'tempt', 'ten', 'tender', 'tenor', 'tent', 'tenth', 'tents', 'terror', 'th', 'than', 'that', 'the', 'thee', 'their', 'them', 'themselv', 'themselves', 'then', 'thence', 'there', 'thereby', 'therefore', 'therein', 'thereof', 'thereon', 'these', 'they', 'thi', 'thicket', 'thigh', 'thin', 'thine', 'thing', 'things', 'think', 'third', 'thirteen', 'thirteenth', 'thirty', 'this', 'thistles', 'thither', 'thoroughly', 'those', 'thou', 'though', 'thought', 'thoughts', 'thousand', 'thousands', 'thread', 'three', 'threescore', 'threshingfloor', 'throne', 'through', 'throughout', 'thus', 'thy', 'thyself', 'tidings', 'till', 'tiller', 'tillest', 'tim', 'time', 'times', 'tithes', 'to', 'togeth', 'together', 'toil', 'token', 'told', 'tongue', 'tongues', 'too', 'took', 'top', 'tops', 'torn', 'touch', 'touched', 'toucheth', 'touching', 'toward', 'tower', 'towns', 'tr', 'trade', 'traffick', 'trained', 'travail', 'travailed', 'treasure', 'tree', 'trees', 'trembled', 'trespass', 'tribes', 'tribute', 'troop', 'troubled', 'trough', 'troughs', 'tru', 'true', 'truly', 'truth', 'turn', 'turned', 'turtledove', 'twel', 'twelve', 'twentieth', 'twenty', 'twice', 'twins', 'two', 'unawares', 'uncircumcised', 'uncovered', 'under', 'understand', 'understood', 'ungirded', 'unit', 'unleavened', 'until', 'unto', 'up', 'upon', 'uppermost', 'upright', 'upward', 'urged', 'us', 'utmost', 'vagabond', 'vail', 'vale', 'valley', 'vengeance', 'venison', 'verified', 'verily', 'very', 'vessels', 'vestures', 'victuals', 'vine', 'vineyard', 'violence', 'violently', 'virgin', 'vision', 'visions', 'visit', 'visited', 'voi', 'voice', 'void', 'vow', 'vowed', 'vowedst', 'w', 'wa', 'wages', 'wagons', 'waited', 'walk', 'walked', 'walketh', 'walking', 'wall', 'wander', 'wandered', 'wandering', 'war', 'ward', 'was', 'wash', 'washed', 'wast', 'wat', 'watch', 'water', 'watered', 'watering', 'waters', 'waxed', 'waxen', 'way', 'ways', 'we', 'wealth', 'weaned', 'weapons', 'wearied', 'weary', 'week', 'weep', 'weig', 'weighed', 'weight', 'welfare', 'well', 'wells', 'went', 'wentest', 'wept', 'were', 'west', 'westwa', 'whales', 'what', 'whatsoever', 'wheat', 'whelp', 'when', 'whence', 'whensoever', 'where', 'whereby', 'wherefore', 'wherein', 'whereof', 'whereon', 'wherewith', 'whether', 'which', 'while', 'white', 'whither', 'who', 'whole', 'whom', 'whomsoever', 'whoredom', 'whose', 'whosoever', 'why', 'wi', 'wick', 'wicked', 'wickedly', 'wickedness', 'widow', 'widowhood', 'wife', 'wild', 'wilderness', 'will', 'willing', 'wilt', 'wind', 'window', 'windows', 'wine', 'winged', 'winter', 'wise', 'wit', 'with', 'withered', 'withheld', 'withhold', 'within', 'without', 'witness', 'wittingly', 'wiv', 'wives', 'wo', 'wolf', 'woman', 'womb', 'wombs', 'women', 'womenservan', 'womenservants', 'wondering', 'wood', 'wor', 'word', 'words', 'work', 'worse', 'worship', 'worshipped', 'worth', 'worthy', 'wot', 'wotteth', 'would', 'wouldest', 'wounding', 'wrapped', 'wrath', 'wrestled', 'wrestlings', 'wrong', 'wroth', 'wrought', 'y', 'ye', 'yea', 'year', 'yearn', 'years', 'yesternight', 'yet', 'yield', 'yielded', 'yielding', 'yoke', 'yonder', 'you', 'young', 'younge', 'younger', 'youngest', 'your', 'yourselves', 'youth']\n",
      "2789\n"
     ]
    }
   ],
   "source": [
    "print(sorted((set(text3)))) # output the sorted set of tokens in text3\n",
    "print(len(set(text3)))      # output the number of unique tokens in text3"
   ]
  },
  {
   "cell_type": "markdown",
   "metadata": {},
   "source": [
    "We can calculate the lexical richness of a text by obtaining the ratio of the number of unique tokens and the total number of tokens it contains."
   ]
  },
  {
   "cell_type": "code",
   "execution_count": 26,
   "metadata": {},
   "outputs": [
    {
     "name": "stdout",
     "output_type": "stream",
     "text": [
      "0.06230453042623537\n",
      "16.050197203298673\n"
     ]
    }
   ],
   "source": [
    "lexical_richness_ratio = len(set(text3)) / len(text3)  # calculate the lexical richness of text3\n",
    "average_word_count = lexical_richness_ratio ** -1 # calculate the average amount of times a word is used in text3\n",
    "\n",
    "print(lexical_richness_ratio)\n",
    "print(average_word_count)"
   ]
  },
  {
   "cell_type": "markdown",
   "metadata": {},
   "source": [
    "The example of above shows that `text3` has a lexical richness of 6.23% of the total number of words. The inverse of the ratio reveals that a word is used 16 times on average in the whole text."
   ]
  },
  {
   "cell_type": "markdown",
   "metadata": {},
   "source": [
    "The `.count(\"`*`word`*`\")` method of a `Text` outputs the amount of times a *word* occures in that text."
   ]
  },
  {
   "cell_type": "code",
   "execution_count": 24,
   "metadata": {},
   "outputs": [
    {
     "data": {
      "text/plain": [
       "5"
      ]
     },
     "execution_count": 24,
     "metadata": {},
     "output_type": "execute_result"
    }
   ],
   "source": [
    "text3.count(\"smote\") # output the amount of times the word \"smote\" occures in text3"
   ]
  },
  {
   "cell_type": "markdown",
   "metadata": {},
   "source": [
    "With `.count(\"`*`word`*`\")` we can calculate the percentage of the text that is taken up by a specific *word*."
   ]
  },
  {
   "cell_type": "code",
   "execution_count": 25,
   "metadata": {},
   "outputs": [
    {
     "data": {
      "text/plain": [
       "1.457806031353621"
      ]
     },
     "execution_count": 25,
     "metadata": {},
     "output_type": "execute_result"
    }
   ],
   "source": [
    "100 * text4.count(\"a\") / len(text4) # output the percentage of the text that's the word \"a\"."
   ]
  },
  {
   "cell_type": "markdown",
   "metadata": {},
   "source": [
    "# 3 Computing with Language: Simple Statistics"
   ]
  },
  {
   "cell_type": "markdown",
   "metadata": {},
   "source": [
    "## 3.1 Frequency Distributions"
   ]
  },
  {
   "cell_type": "markdown",
   "metadata": {},
   "source": [
    "<img src=\"tally.png\" width=\"300px\">\n",
    "\n",
    "The table above is known as a frequency distribution. A frequency distribution tells us the frequency of each vocabulary item in a text.\n",
    "\n",
    "The `FreqDist(`*`Text`*`)` function generates a frequency distribution object of a given *`Text`*."
   ]
  },
  {
   "cell_type": "code",
   "execution_count": 27,
   "metadata": {},
   "outputs": [
    {
     "name": "stdout",
     "output_type": "stream",
     "text": [
      "<FreqDist with 19317 samples and 260819 outcomes>\n",
      "[(',', 18713), ('the', 13721), ('.', 6862), ('of', 6536), ('and', 6024), ('a', 4569), ('to', 4542), (';', 4072), ('in', 3916), ('that', 2982), (\"'\", 2684), ('-', 2552), ('his', 2459), ('it', 2209), ('I', 2124), ('s', 1739), ('is', 1695), ('he', 1661), ('with', 1659), ('was', 1632), ('as', 1620), ('\"', 1478), ('all', 1462), ('for', 1414), ('this', 1280), ('!', 1269), ('at', 1231), ('by', 1137), ('but', 1113), ('not', 1103), ('--', 1070), ('him', 1058), ('from', 1052), ('be', 1030), ('on', 1005), ('so', 918), ('whale', 906), ('one', 889), ('you', 841), ('had', 767), ('have', 760), ('there', 715), ('But', 705), ('or', 697), ('were', 680), ('now', 646), ('which', 640), ('?', 637), ('me', 627), ('like', 624)]\n",
      "906\n"
     ]
    }
   ],
   "source": [
    "frequency_distribution = FreqDist(text1)      # generate a frequency distribution of text1\n",
    "print(frequency_distribution)                 # invokes the __str()__ method of the FreqDist object\n",
    "print(frequency_distribution.most_common(50)) # outputs the 50 most common used tokens of text1\n",
    "print(frequency_distribution[\"whale\"])        # outputs the number of times the word \"whale\" appears in text1"
   ]
  },
  {
   "cell_type": "markdown",
   "metadata": {},
   "source": [
    "The `frequency_distribution` variable is an object of type `FreqDist`. Its `__str()__` method outputs the number of samples and number of outcomes it contains.\n",
    "\n",
    "The `.most_common(`*`n`*`)` method of a `FreqDist` outputs the *n* most common tokens of a `Text`. The output as a list of tuples that represent *key-value* pairs, where the *key* is the token and the *value* is the number of times that token appears in the `Text`."
   ]
  },
  {
   "cell_type": "markdown",
   "metadata": {},
   "source": [
    "The `.plot(`*`n`*`)` method of a `FreqDist` displays a frequency plot of the *n* most common words used in a `Text`."
   ]
  },
  {
   "cell_type": "code",
   "execution_count": 30,
   "metadata": {},
   "outputs": [
    {
     "data": {
      "image/png": "[encoded data removed]",
      "text/plain": [
       "<Figure size 640x480 with 1 Axes>"
      ]
     },
     "metadata": {},
     "output_type": "display_data"
    },
    {
     "data": {
      "text/plain": [
       "<Axes: xlabel='Samples', ylabel='Cumulative Counts'>"
      ]
     },
     "execution_count": 30,
     "metadata": {},
     "output_type": "execute_result"
    }
   ],
   "source": [
    "frequency_distribution.plot(50, cumulative=True)"
   ]
  },
  {
   "cell_type": "markdown",
   "metadata": {},
   "source": [
    "The plot can be cumulative by setting the `cumulative` parameter of the `.plot()` method to `true`."
   ]
  },
  {
   "cell_type": "markdown",
   "metadata": {},
   "source": [
    "## 3.3 Collations and Bigrams"
   ]
  },
  {
   "cell_type": "markdown",
   "metadata": {},
   "source": [
    "**Bigram:** a word pair.\n",
    "\n",
    "**Collocation:** a sequence of words that occur together unusually often (i.e. red wine). They're basically frequent bigrams."
   ]
  },
  {
   "cell_type": "markdown",
   "metadata": {},
   "source": [
    "The `bigrams([\"`*`word1`*`\", \"`*`word2`*`, ...\"])` function generates a list of bigrams with a given list of words."
   ]
  },
  {
   "cell_type": "code",
   "execution_count": 6,
   "metadata": {},
   "outputs": [
    {
     "data": {
      "text/plain": [
       "[('more', 'is'), ('is', 'said'), ('said', 'than'), ('than', 'done')]"
      ]
     },
     "execution_count": 6,
     "metadata": {},
     "output_type": "execute_result"
    }
   ],
   "source": [
    "list(bigrams([\"more\", \"is\", \"said\", \"than\", \"done\"]))"
   ]
  },
  {
   "cell_type": "markdown",
   "metadata": {},
   "source": [
    "The `.collocations()` method of a `Text` outputs the bigrams that occur more often than we would expect based on the frequency of the individual words."
   ]
  },
  {
   "cell_type": "code",
   "execution_count": 7,
   "metadata": {},
   "outputs": [
    {
     "name": "stdout",
     "output_type": "stream",
     "text": [
      "United States; fellow citizens; years ago; four years; Federal\n",
      "Government; General Government; American people; Vice President; God\n",
      "bless; Chief Justice; one another; fellow Americans; Old World;\n",
      "Almighty God; Fellow citizens; Chief Magistrate; every citizen; Indian\n",
      "tribes; public debt; foreign nations\n",
      "would like; medium build; social drinker; quiet nights; non smoker;\n",
      "long term; age open; Would like; easy going; financially secure; fun\n",
      "times; similar interests; Age open; weekends away; poss rship; well\n",
      "presented; never married; single mum; permanent relationship; slim\n",
      "build\n"
     ]
    }
   ],
   "source": [
    "text4.collocations()\n",
    "text8.collocations()"
   ]
  },
  {
   "cell_type": "markdown",
   "metadata": {},
   "source": [
    "## 3.4 Counting Other Things"
   ]
  },
  {
   "cell_type": "markdown",
   "metadata": {},
   "source": [
    "We can use the `FreqDist()` to generate a frequency distribution of the lengths of the tokens in a `Text`."
   ]
  },
  {
   "cell_type": "code",
   "execution_count": 9,
   "metadata": {},
   "outputs": [
    {
     "name": "stdout",
     "output_type": "stream",
     "text": [
      "<FreqDist with 19 samples and 260819 outcomes>\n",
      "{1: 47933, 4: 42345, 2: 38513, 6: 17111, 8: 9966, 9: 6428, 11: 1873, 5: 26597, 7: 14399, 3: 50223, 10: 3528, 12: 1053, 13: 567, 14: 177, 16: 22, 15: 70, 17: 12, 18: 1, 20: 1}\n"
     ]
    }
   ],
   "source": [
    "# generate a frequency distribution of the word lengths in text1\n",
    "frequency_distribution = FreqDist(len(w) for w in text1)\n",
    "\n",
    "# invoke the __str()__ method of the FreqDist object\n",
    "print(frequency_distribution)\n",
    "\n",
    "# display the contents of the FreqDist object\n",
    "print(dict(frequency_distribution))"
   ]
  },
  {
   "cell_type": "markdown",
   "metadata": {},
   "source": [
    "The resulting frequency distribution shows us that there are 19 samples (19 unique token lengths) and 260819 outcomes. When we convert the frequency distribution to a dictionary, the contents reveal that there are 47933 tokens of length 1, 38513 tokens of length 2, 50223 tokens of lenght 3, etc."
   ]
  },
  {
   "cell_type": "code",
   "execution_count": 12,
   "metadata": {},
   "outputs": [
    {
     "name": "stdout",
     "output_type": "stream",
     "text": [
      "[(3, 50223), (1, 47933), (4, 42345), (2, 38513), (5, 26597), (6, 17111), (7, 14399), (8, 9966), (9, 6428), (10, 3528), (11, 1873), (12, 1053), (13, 567), (14, 177), (15, 70), (16, 22), (17, 12), (18, 1), (20, 1)]\n",
      "3\n",
      "50223\n",
      "0.19255882431878046\n"
     ]
    }
   ],
   "source": [
    "print(frequency_distribution.most_common()) # output the token lengths frequency ordered from most to least common\n",
    "print(frequency_distribution.max())         # output the most common token length\n",
    "print(frequency_distribution[3])            # output the number of tokens of length 3\n",
    "print(frequency_distribution.freq(3))       # output the frequency of tokens that are of length 3"
   ]
  },
  {
   "cell_type": "markdown",
   "metadata": {},
   "source": [
    "By using the `.most_common()` and `.max()` methods of a `FreqDist`, we can observe that the most common token length is of size 3 with a total count of 50223.\n",
    "\n",
    "The `.freq(`*`sample`*`)` method of a `FreqDist` outputs the frequency of a *sample*.\n",
    "\n",
    "The example above shows us that 19.26% of tokens in `text1` have a length of 3."
   ]
  },
  {
   "cell_type": "markdown",
   "metadata": {},
   "source": [
    "***Table 3.1:*** Functions defined for NLTK's Frequency Distributions\n",
    "\n",
    "|Example|Description|\n",
    "|-|-|\n",
    "|`fdist = FreqDist(`*`samples`*`)`|create a frequency distribution containing the given *samples*|\n",
    "|`fdist[`*`sample`*`] += 1`|increment the count for this *sample*|\n",
    "|`fdist[`*`sample`*`]`|count of the number of times a given *sample* occurred|\n",
    "|`fdist.freq(`*`sample`*`)`|frequency of a given *sample*|\n",
    "|`fdist.N()`|total number of samples|\n",
    "|`fdist.most_common(`*`n`*`)`|the *n* most common samples and their frequencies|\n",
    "|`for sample in fdist:`|iterate over the samples|\n",
    "|`fdist.max()`|sample with the greatest count|\n",
    "|`fdist.tabulate()`|tabulate the frequency distribution|\n",
    "|`fdist.plot()`|graphical plot of the frequency distribution|\n",
    "|`fdist.plot(cumulative=True)`|cumulative plot of the frequency distribution|\n",
    "|`fdist1 \\|= fdist2`|update `fdist1` with counts from `fdist2`|\n",
    "|`fdist1 < fdist2`|test if samples in `fdist1` occur less frequently than in `fdist2`|"
   ]
  },
  {
   "cell_type": "markdown",
   "metadata": {},
   "source": [
    "# 5 Automatic Natural Language Understanding"
   ]
  },
  {
   "cell_type": "markdown",
   "metadata": {},
   "source": [
    "## 5.1 Word Sense Disambugation"
   ]
  },
  {
   "cell_type": "markdown",
   "metadata": {},
   "source": [
    "**Word sense disambiguation** is the act of working out the sense of a word that was intended in a given context.\n",
    "\n",
    "For example:\n",
    "\n",
    "a. The lost children were found **by** the *searchers*. (agentive sense)\n",
    "\n",
    "b. The lost children were found **by** the *mountain*. (locative sense)\n",
    "\n",
    "c. The lost children were found **by** the *afternoon*. (temporal sense)\n",
    "\n",
    "The meaning of the italicized word helps us interpret the meaning of **by**."
   ]
  },
  {
   "cell_type": "markdown",
   "metadata": {},
   "source": [
    "## 5.2 Pronoun Resolution"
   ]
  },
  {
   "cell_type": "markdown",
   "metadata": {},
   "source": [
    "**Pronoun Resolution** is the act of detecting the subjects and object of verbs.\n",
    "\n",
    "For example:\n",
    "\n",
    "a. The thieves stole the paintings. They were subsequently *sold*. (The paintings were sold.)\n",
    "\n",
    "b. The thieves stole the paintings. They were subsequently *caught*. (The thieves were caught.)\n",
    "\n",
    "c. The thieves stole the paintings. They were subsequently *found*. (The paintings were found.)\n",
    "\n",
    "Pronoun resolution involves finding the **antecedent** of the pronoun *they*, either thieves or paintings. Computational techniques for tackling this problems include:\n",
    "\n",
    "**Anaphora resolution** — identifying what a pronoun or noun phrase refers to.\n",
    "\n",
    "**Semantic role labeling** — identifying how a noun phrase relates to the verb (as agent, patient, instrument, etc.)"
   ]
  },
  {
   "cell_type": "markdown",
   "metadata": {},
   "source": [
    "# 8 Exercises"
   ]
  },
  {
   "cell_type": "markdown",
   "metadata": {},
   "source": [
    "2. Calculate how many hundred-letter strings are possible."
   ]
  },
  {
   "cell_type": "code",
   "execution_count": 13,
   "metadata": {},
   "outputs": [
    {
     "name": "stdout",
     "output_type": "stream",
     "text": [
      "3142930641582938830174357788501626427282669988762475256374173175398995908420104023465432599069702289330964075081611719197835869803511992549376\n"
     ]
    }
   ],
   "source": [
    "letters_in_alphabet_count = 26\n",
    "string_length = 100\n",
    "\n",
    "total_combinations = letters_in_alphabet_count ** string_length\n",
    "\n",
    "print(total_combinations)"
   ]
  },
  {
   "cell_type": "markdown",
   "metadata": {},
   "source": [
    "4. Review section 1 on computing with language. How many words are there in text2? How many distinct words are there?"
   ]
  },
  {
   "cell_type": "code",
   "execution_count": 23,
   "metadata": {},
   "outputs": [
    {
     "name": "stdout",
     "output_type": "stream",
     "text": [
      "9201\n"
     ]
    }
   ],
   "source": [
    "words = [token.upper() for token in text4 if token.isalpha()]\n",
    "vocabulary = set(words)\n",
    "distinct_words_count = len(vocabulary)\n",
    "\n",
    "print(distinct_words_count)"
   ]
  },
  {
   "cell_type": "markdown",
   "metadata": {},
   "source": [
    "6. Produce a dispersion plot of the four main protagonists in Sense and Sensibility: Elinor, Marianne, Edward, and Willoughby. What can you observe about the different roles played by the males and females in this novel? Can you identify the couples?"
   ]
  },
  {
   "cell_type": "code",
   "execution_count": 24,
   "metadata": {},
   "outputs": [
    {
     "data": {
      "image/png": "[encoded data removed]",
      "text/plain": [
       "<Figure size 640x480 with 1 Axes>"
      ]
     },
     "metadata": {},
     "output_type": "display_data"
    }
   ],
   "source": [
    "text2.dispersion_plot([\"Elinor\", \"Marianne\", \"Edward\", \"Willoughby\"])"
   ]
  },
  {
   "cell_type": "markdown",
   "metadata": {},
   "source": [
    "Willoughby likely the most important character as his name appears the most amount of times in the book. The second most common name is Edward. Marianne is most reasonably a woman and appears in the story before Elinor; this leads me to suspect that Marianne is Willoughby's loves interest, which would make Edward and Elinor a couple."
   ]
  },
  {
   "cell_type": "markdown",
   "metadata": {},
   "source": [
    "7. Find the collocations in `text5`."
   ]
  },
  {
   "cell_type": "code",
   "execution_count": 28,
   "metadata": {},
   "outputs": [
    {
     "name": "stdout",
     "output_type": "stream",
     "text": [
      "wanna chat; PART JOIN; MODE #14-19teens; JOIN PART; PART PART;\n",
      "cute.-ass MP3; MP3 player; JOIN JOIN; times .. .; ACTION watches; guys\n",
      "wanna; song lasts; last night; ACTION sits; -...)...- S.M.R.; Lime\n",
      "Player; Player 12%; dont know; lez gurls; long time\n",
      "None\n"
     ]
    }
   ],
   "source": [
    "print(text5.collocations())"
   ]
  },
  {
   "cell_type": "markdown",
   "metadata": {},
   "source": [
    "The first sentence of `text3` is provided to you in the variable `sent3`. The index of the in `sent3` is 1, because `sent3[1]` gives us 'the'. What are the indexes of the two other occurrences of this word in `sent3`?"
   ]
  },
  {
   "cell_type": "code",
   "execution_count": 38,
   "metadata": {},
   "outputs": [
    {
     "name": "stdout",
     "output_type": "stream",
     "text": [
      "[1, 5, 8]\n"
     ]
    }
   ],
   "source": [
    "indexes = []\n",
    "index = 0\n",
    "\n",
    "for token in sent3:\n",
    "    if token.upper() == \"THE\":\n",
    "        indexes.append(index)\n",
    "\n",
    "    index += 1\n",
    "\n",
    "print(indexes)"
   ]
  },
  {
   "cell_type": "markdown",
   "metadata": {},
   "source": [
    "15. Review the discussion of conditionals in section 4. Find all words in the Chat Corpus (`text5`) starting with the letter b. Show them in alphabetical order."
   ]
  },
  {
   "cell_type": "code",
   "execution_count": 52,
   "metadata": {},
   "outputs": [
    {
     "name": "stdout",
     "output_type": "stream",
     "text": [
      "['B', 'B', 'B', 'B', 'B', 'B', 'B', 'B', 'B-DAY', 'B/C', 'B4', 'B4', 'BAAAAALLLLLLLLIIIIIIINNNNNNNNNNN', 'BABAY', 'BABBLE', 'BABBLEIN', 'BABE', 'BABE', 'BABE', 'BABE', 'BABE', 'BABE', 'BABE', 'BABE', 'BABE', 'BABE', 'BABE', 'BABES', 'BABES', 'BABES', 'BABI', 'BABI', 'BABIES', 'BABIES', 'BABIESS', 'BABY', 'BABY', 'BABY', 'BABY', 'BABY', 'BABY', 'BABY', 'BABY', 'BABY', 'BABY', 'BABY', 'BABY', 'BABY', 'BABY', 'BABY', 'BABY', 'BABY', 'BABY', 'BABY', 'BABY', 'BABY', 'BABY', 'BABY', 'BABY', 'BABY', 'BABY', 'BABYCAKESES', 'BACHELORETTE', 'BACK', 'BACK', 'BACK', 'BACK', 'BACK', 'BACK', 'BACK', 'BACK', 'BACK', 'BACK', 'BACK', 'BACK', 'BACK', 'BACK', 'BACK', 'BACK', 'BACK', 'BACK', 'BACK', 'BACK', 'BACK', 'BACK', 'BACK', 'BACK', 'BACK', 'BACK', 'BACK', 'BACK', 'BACK', 'BACK', 'BACK', 'BACK', 'BACK', 'BACK', 'BACK', 'BACK', 'BACK', 'BACK', 'BACK', 'BACK', 'BACK', 'BACK', 'BACK', 'BACK', 'BACK', 'BACK', 'BACK', 'BACK', 'BACK', 'BACK', 'BACK', 'BACK', 'BACK', 'BACK', 'BACK', 'BACK', 'BACK', 'BACK', 'BACK', 'BACK', 'BACK', 'BACK', 'BACK', 'BACK', 'BACK', 'BACK', 'BACK', 'BACK', 'BACK', 'BACK', 'BACK', 'BACK', 'BACK', 'BACK', 'BACK', 'BACK', 'BACK', 'BACK', 'BACK', 'BACKATCHYA', 'BACKFRONTSIDEWAYSANDALLAROUNDTHEWORLD', 'BACKROOM', 'BACKUP', 'BACL', 'BAD', 'BAD', 'BAD', 'BAD', 'BAD', 'BAD', 'BAD', 'BAD', 'BAD', 'BAD', 'BAD', 'BAD', 'BAD', 'BAD', 'BAD', 'BAD', 'BAD', 'BAD', 'BAD', 'BAD', 'BAD', 'BAD', 'BAD', 'BAD', 'BAD', 'BAD', 'BAG', 'BAG', 'BAG', 'BAGEL', 'BAGELS', 'BAHAHAHAA', 'BAK', 'BAKED', 'BALAD', 'BALANCE', 'BALCK', 'BALCK', 'BALL', 'BALL', 'BALL', 'BALL', 'BALL', 'BALL', 'BALLIN', 'BALLS', 'BALLS', 'BAN', 'BAN', 'BAN', 'BAND', 'BAND', 'BAND', 'BANDITO', 'BANDSAW', 'BANJOES', 'BANNED', 'BANNED', 'BAORD', 'BAR', 'BAR', 'BAR', 'BAR', 'BAR', 'BAR', 'BARBIE', 'BARBIE', 'BARBIE', 'BARBIE', 'BARBIEEE', 'BARE', 'BARE', 'BARE', 'BARELY', 'BARES', 'BARFIGHTS', 'BARKS', 'BARN', 'BAROMETER', 'BARREL', 'BASE', 'BASES', 'BASICALLY', 'BASKET', 'BASKET', 'BATTERY', 'BATTERY', 'BAY', 'BAY', 'BBBBBYYYYYYYEEEEEEEEE', 'BBIAM', 'BBL', 'BBL', 'BBL', 'BBL', 'BBL', 'BBL', 'BBS', 'BBS', 'BBS', 'BC', 'BE', 'BE', 'BE', 'BE', 'BE', 'BE', 'BE', 'BE', 'BE', 'BE', 'BE', 'BE', 'BE', 'BE', 'BE', 'BE', 'BE', 'BE', 'BE', 'BE', 'BE', 'BE', 'BE', 'BE', 'BE', 'BE', 'BE', 'BE', 'BE', 'BE', 'BE', 'BE', 'BE', 'BE', 'BE', 'BE', 'BE', 'BE', 'BE', 'BE', 'BE', 'BE', 'BE', 'BE', 'BE', 'BE', 'BE', 'BE', 'BE', 'BE', 'BE', 'BE', 'BE', 'BE', 'BE', 'BE', 'BE', 'BE', 'BE', 'BE', 'BE', 'BE', 'BE', 'BE', 'BE', 'BE', 'BE', 'BE', 'BE', 'BE', 'BE', 'BE', 'BE', 'BE', 'BE', 'BE', 'BE', 'BE', 'BE', 'BE', 'BE', 'BE', 'BE', 'BE', 'BE', 'BE', 'BE', 'BE', 'BE', 'BE', 'BE', 'BE', 'BE', 'BE', 'BE', 'BE', 'BE', 'BE', 'BE', 'BE', 'BE', 'BE', 'BE', 'BE', 'BE', 'BE', 'BE', 'BE', 'BEACH', 'BEACH', 'BEACH', 'BEACH', 'BEACH', 'BEACH', 'BEACH', 'BEACH', 'BEACH', 'BEACHHHH', 'BEAM', 'BEAMS', 'BEANBAG', 'BEANBAG', 'BEANBAG', 'BEANS', 'BEAR', 'BEAR', 'BEARS', 'BEARS', 'BEARS', 'BEAT', 'BEAT', 'BEAT', 'BEAT', 'BEATEN', 'BEATEN', 'BEATLES', 'BEATS', 'BEATTLES', 'BEATTLES', 'BEAUTIFUL', 'BEAUTIFUL', 'BECAUSE', 'BECAUSE', 'BECAUSE', 'BECAUSE', 'BECAUSE', 'BECAUSE', 'BECAUSE', 'BECAUSE', 'BECAUSE', 'BECAUSE', 'BECAUSE', 'BECAUSE', 'BECAUSE', 'BECAUSE', 'BECAUSE', 'BECKLEY', 'BECOME', 'BECOME', 'BECOME', 'BED', 'BED', 'BED', 'BED', 'BED', 'BED', 'BED', 'BED', 'BEDFORD', 'BEDROOM', 'BEEEEEHAVE', 'BEEEHAVE', 'BEEN', 'BEEN', 'BEEN', 'BEEN', 'BEEN', 'BEEN', 'BEEN', 'BEEN', 'BEEN', 'BEEN', 'BEEN', 'BEEN', 'BEEN', 'BEEN', 'BEEN', 'BEEN', 'BEEN', 'BEEN', 'BEEN', 'BEEN', 'BEEN', 'BEEN', 'BEEN', 'BEEN', 'BEEN', 'BEEN', 'BEEN', 'BEEN', 'BEEN', 'BEEN', 'BEEN', 'BEEN', 'BEEN', 'BEEN', 'BEEN', 'BEEN', 'BEEN', 'BEEN', 'BEEN', 'BEEN', 'BEEN', 'BEEN', 'BEEN', 'BEEN', 'BEEN', 'BEEN', 'BEEN', 'BEEN', 'BEEN', 'BEEN', 'BEEN', 'BEEN', 'BEEN', 'BEEN', 'BEEN', 'BEEN', 'BEEN', 'BEEN', 'BEER', 'BEER', 'BEER', 'BEER', 'BEER', 'BEFORE', 'BEFORE', 'BEFORE', 'BEFORE', 'BEFORE', 'BEFORE', 'BEFORE', 'BEFORE', 'BEFORE', 'BEFORE', 'BEFORE', 'BEFORE', 'BEFORE', 'BEG', 'BEGIN', 'BEHAVE', 'BEHAVE', 'BEHIND', 'BEHIND', 'BEHIND', 'BEHIND', 'BEIN', 'BEING', 'BEING', 'BEING', 'BEING', 'BEING', 'BEING', 'BEING', 'BEING', 'BEING', 'BEING', 'BEING', 'BEING', 'BELEIVE', 'BELIEVE', 'BELIEVE', 'BELIEVE', 'BELIEVE', 'BELIEVE', 'BELIEVE', 'BELIVE', 'BELL', 'BELLY', 'BELLY', 'BELONG', 'BELONG', 'BELONGINGS', 'BEN', 'BEN', 'BEN', 'BEND', 'BEND', 'BEND', 'BENJAMIN', 'BENZ', 'BES', 'BESIDE', 'BESIDES', 'BESIDES', 'BESIDES', 'BEST', 'BEST', 'BEST', 'BEST', 'BEST', 'BEST', 'BEST', 'BEST', 'BEST', 'BET', 'BET', 'BET', 'BET', 'BET', 'BET', 'BET', 'BET', 'BETRAYAL', 'BETTA', 'BETTER', 'BETTER', 'BETTER', 'BETTER', 'BETTER', 'BETTER', 'BETTER', 'BETTER', 'BETTER', 'BETTER', 'BETTER', 'BETTER', 'BETTER', 'BETTER', 'BETTER', 'BETTER', 'BETTER', 'BETTER', 'BETTER', 'BETTER', 'BETTER', 'BETTER', 'BETTER', 'BETTER', 'BETWEEN', 'BETWEEN', 'BETWEEN', 'BETWEEN', 'BEUTY', 'BF', 'BF', 'BI', 'BI', 'BI', 'BI', 'BI', 'BI', 'BI', 'BI', 'BI', 'BI', 'BIATCH', 'BIATCH', 'BIBLE', 'BIBLE', 'BIBLE', 'BIBLE', 'BIEBSA', 'BIED', 'BIG', 'BIG', 'BIG', 'BIG', 'BIG', 'BIG', 'BIG', 'BIG', 'BIG', 'BIG', 'BIG', 'BIG', 'BIG', 'BIG', 'BIGEST', 'BIGGEST', 'BIIIATCH', 'BIIIIIITCH', 'BIKE', 'BIKES', 'BIKINI', 'BIO', 'BIOGRAPHYS', 'BIRD', 'BIRDGANG', 'BIRFDAY', 'BIRTHDAY', 'BIRTHDAY', 'BISEXUAL', 'BISHES', 'BIT', 'BIT', 'BIT', 'BIT', 'BIT', 'BIT', 'BIT', 'BIT', 'BIT', 'BIT', 'BIT', 'BIT', 'BITCH', 'BITCH', 'BITCH', 'BITCH', 'BITCHES', 'BITCHES', 'BITCHES', 'BITDH', 'BITE', 'BITE', 'BITES', 'BITES', 'BIYATCH', 'BIZ', 'BIZ', 'BJ', 'BLACK', 'BLACK', 'BLACK', 'BLACK', 'BLACK', 'BLACK', 'BLACK', 'BLACK', 'BLADE', 'BLADE', 'BLAH', 'BLAH', 'BLAH', 'BLAH', 'BLAH', 'BLAH', 'BLANK', 'BLANK', 'BLANK', 'BLANK', 'BLANKIE', 'BLANKIE', 'BLAZED', 'BLEACH', 'BLECH', 'BLESS', 'BLESSINGS', 'BLEW', 'BLEW', 'BLIND', 'BLIND', 'BLIND', 'BLINKS', 'BLISS', 'BLOCKING', 'BLOE', 'BLONDES', 'BLOOD', 'BLOOD', 'BLOOD', 'BLOOD', 'BLOOD', 'BLOODED', 'BLOODY', 'BLOOOOOOOOOD', 'BLOOOOOOOOOOOD', 'BLOOOOOOOOOOOOOD', 'BLOW', 'BLOWING', 'BLOWJOB', 'BLOWUP', 'BLUE', 'BLUE', 'BLUE', 'BLUE', 'BLUE', 'BLUE', 'BLUE', 'BLUE', 'BLUEBERRY', 'BLUER', 'BLUES', 'BLUNT', 'BOARD', 'BOARD', 'BOB', 'BOB', 'BODIES', 'BODIES', 'BODY', 'BOED', 'BOGHT', 'BOI', 'BOING', 'BOINKED', 'BOIS', 'BOMB', 'BONE', 'BONE', 'BONED', 'BONES', 'BONES', 'BONG', 'BONING', 'BONUS', 'BONUS', 'BOO', 'BOO', 'BOO', 'BOO', 'BOO', 'BOOBOO', 'BOOBS', 'BOOBS', 'BOOK', 'BOOK', 'BOOK', 'BOOK', 'BOOK', 'BOOK', 'BOOK', 'BOOK', 'BOOK', 'BOOKS', 'BOOM', 'BOONE', 'BOOOOOOOOOOOGLYYYYYY', 'BOOST', 'BOOT', 'BOOTAY', 'BOOTED', 'BOOTED', 'BOOTED', 'BOOTS', 'BOOTS', 'BOOTS', 'BOOTY', 'BOOTY', 'BOOTY', 'BOOTY', 'BOOYAH', 'BORAT', 'BORDER', 'BORDERLINE', 'BORED', 'BORED', 'BORED', 'BORED', 'BORED', 'BORED', 'BORED', 'BORED', 'BORED', 'BORED', 'BORED', 'BORED', 'BORED', 'BORED', 'BORED', 'BORED', 'BORED', 'BORED', 'BORED', 'BORED', 'BOREDOM', 'BORING', 'BORING', 'BORING', 'BORING', 'BORING', 'BORING', 'BORING', 'BORN', 'BORN', 'BORN', 'BORN-AGAIN', 'BORN-AGAIN', 'BOSOM', 'BOSS', 'BOSS', 'BOSS', 'BOSS', 'BOSS', 'BOSSY', 'BOT', 'BOT', 'BOT', 'BOT', 'BOT', 'BOT', 'BOT', 'BOT', 'BOT', 'BOT', 'BOTH', 'BOTH', 'BOTH', 'BOTH', 'BOTH', 'BOTHER', 'BOTHERING', 'BOTTLE', 'BOTTLE', 'BOTTLE', 'BOTTLE', 'BOTTLE', 'BOUGHT', 'BOUNCED', 'BOUNCER', 'BOUNCERS', 'BOUND', 'BOUT', 'BOUT', 'BOUT', 'BOUT', 'BOUT', 'BOUT', 'BOUT', 'BOUT', 'BOUT', 'BOUT', 'BOUT', 'BOUT', 'BOUTS', 'BOUTS', 'BOW', 'BOWL', 'BOX', 'BOX', 'BOX', 'BOX', 'BOX', 'BOY', 'BOY', 'BOY', 'BOY', 'BOY', 'BOY', 'BOY', 'BOY', 'BOY', 'BOY', 'BOY', 'BOY', 'BOY', 'BOY', 'BOYFRIEND', 'BOYS', 'BOYS', 'BOYS', 'BOYS', 'BOYS', 'BOYZ', 'BRA', 'BRAD', 'BRADY', 'BRAIN', 'BRAIN', 'BRAKES', 'BRASS', 'BRAT', 'BRB', 'BRB', 'BRB', 'BRB', 'BRB', 'BRB', 'BRB', 'BRB', 'BRB', 'BRB', 'BRB', 'BRB', 'BRB', 'BRB', 'BRB', 'BRB', 'BRB', 'BRB', 'BRB', 'BRB', 'BRB', 'BRB', 'BRB', 'BRB', 'BRB', 'BRB', 'BRB', 'BRB', 'BRB', 'BRB', 'BRB', 'BRB', 'BRB', 'BRBBB', 'BREAD', 'BREAD', 'BREAK', 'BREAK', 'BREAK', 'BREAKING', 'BREAKS', 'BREATH', 'BREATH', 'BREATHE', 'BREATHE', 'BRED', 'BREEDING', 'BRIGHT', 'BRIGHTENED', 'BRING', 'BRING', 'BRING', 'BRING', 'BRINGS', 'BRO', 'BRO', 'BRO', 'BROKE', 'BROKE', 'BROKE', 'BROKE', 'BROKE', 'BROKE', 'BROKEN', 'BROOKLYN', 'BROTHER', 'BROTHERS', 'BROUGHT', 'BROUGHT', 'BROWN', 'BROWN', 'BRRRRRRR', 'BRUISES', 'BRUISES', 'BRUNSWICK', 'BRWN', 'BTW', 'BUCKS', 'BUD', 'BUDDYYYYYY', 'BUFF', 'BUFFALO', 'BUG', 'BUG', 'BUGS', 'BUH', 'BUH', 'BUILD', 'BUILD', 'BUILDS', 'BUILT', 'BULL', 'BULLS', 'BUM', 'BUM', 'BUMBER', 'BUMMER', 'BUMPED', 'BUMPER', 'BUNCH', 'BUNNY', 'BURGER', 'BURGER', 'BURITO', 'BURNED', 'BURNS', 'BURNS', 'BURNS', 'BURP', 'BURP', 'BURPIN', 'BURPS', 'BURPS', 'BURRIED', 'BURRYED', 'BUS', 'BUS', 'BUS', 'BUS', 'BUS', 'BUSES', 'BUST', 'BUSTED', 'BUSY', 'BUSY', 'BUSY', 'BUSY', 'BUSY', 'BUSY', 'BUSY', 'BUSY', 'BUSY', 'BUSY', 'BUSY', 'BUSY', 'BUSY', 'BUSY', 'BUSY', 'BUSY', 'BUSY', 'BUT', 'BUT', 'BUT', 'BUT', 'BUT', 'BUT', 'BUT', 'BUT', 'BUT', 'BUT', 'BUT', 'BUT', 'BUT', 'BUT', 'BUT', 'BUT', 'BUT', 'BUT', 'BUT', 'BUT', 'BUT', 'BUT', 'BUT', 'BUT', 'BUT', 'BUT', 'BUT', 'BUT', 'BUT', 'BUT', 'BUT', 'BUT', 'BUT', 'BUT', 'BUT', 'BUT', 'BUT', 'BUT', 'BUT', 'BUT', 'BUT', 'BUT', 'BUT', 'BUT', 'BUT', 'BUT', 'BUT', 'BUT', 'BUT', 'BUT', 'BUT', 'BUT', 'BUT', 'BUT', 'BUT', 'BUT', 'BUT', 'BUT', 'BUT', 'BUT', 'BUT', 'BUT', 'BUT', 'BUT', 'BUT', 'BUT', 'BUT', 'BUT', 'BUT', 'BUT', 'BUT', 'BUT', 'BUT', 'BUT', 'BUT', 'BUT', 'BUT', 'BUT', 'BUT', 'BUT', 'BUT', 'BUT', 'BUT', 'BUT', 'BUT', 'BUT', 'BUT', 'BUT', 'BUT', 'BUT', 'BUT', 'BUT', 'BUT', 'BUT', 'BUT', 'BUT', 'BUT', 'BUTT', 'BUTT', 'BUTT', 'BUTTER', 'BUTTERSCOTCH', 'BUTTON', 'BUTTON', 'BUTTONS', 'BUTTONS', 'BUY', 'BUY', 'BUY', 'BUY', 'BUY', 'BUY', 'BUY', 'BUY', 'BUY', 'BUYING', 'BUYING', 'BWAHAHAHAHAHAHAHAHAHAHA', 'BWHAHA', 'BY', 'BY', 'BY', 'BY', 'BY', 'BY', 'BY', 'BY', 'BY', 'BY', 'BY', 'BY', 'BY', 'BY', 'BY', 'BY', 'BY', 'BY', 'BY', 'BY', 'BY', 'BY', 'BY', 'BY', 'BY', 'BYB', 'BYE', 'BYE', 'BYE', 'BYE', 'BYE', 'BYE', 'BYE', 'BYE', 'BYE', 'BYE', 'BYE', 'BYE', 'BYE', 'BYE', 'BYE', 'BYE', 'BYE', 'BYE', 'BYE', 'BYE', 'BYE', 'BYE', 'BYE', 'BYE', 'BYE', 'BYE', 'BYE', 'BYE', 'BYE', 'BYE', 'BYE', 'BYE', 'BYE', 'BYE', 'BYE', 'BYE', 'BYE', 'BYE', 'BYE', 'BYE', 'BYE', 'BYE', 'BYE', 'BYE', 'BYE', 'BYE', 'BYEEE', 'BYEEE', 'BYEEEE', 'BYEEEEEEEE', 'BYEEEEEEEEEEEEE', 'BYES']\n"
     ]
    }
   ],
   "source": [
    "words_that_start_with_b = sorted([token.upper() for token in text5 if token.upper().startswith(\"B\")])\n",
    "\n",
    "print(words_that_start_with_b)"
   ]
  }
 ],
 "metadata": {
  "kernelspec": {
   "display_name": "Python 3",
   "language": "python",
   "name": "python3"
  },
  "language_info": {
   "codemirror_mode": {
    "name": "ipython",
    "version": 3
   },
   "file_extension": ".py",
   "mimetype": "text/x-python",
   "name": "python",
   "nbconvert_exporter": "python",
   "pygments_lexer": "ipython3",
   "version": "3.10.12"
  },
  "orig_nbformat": 4
 },
 "nbformat": 4,
 "nbformat_minor": 2
}
